{
 "cells": [
  {
   "cell_type": "code",
   "execution_count": 20,
   "metadata": {},
   "outputs": [],
   "source": [
    "import gzip\n",
    "import json\n",
    "import pandas as pd\n",
    "import requests\n",
    "from io import BytesIO\n",
    "#抓取今年的file\n",
    "def make_category_id_url_suffix(category, extension='json'):\n",
    "    year = str(pd.datetime.today().year)\n",
    "    month = str(pd.datetime.today().month).zfill(2)\n",
    "    day = str(pd.datetime.today().day - 1).zfill(2)\n",
    "    return '_'.join([category, 'ids', month, day, year]) + '.' + extension\n",
    "\n",
    "#Download ID list\n",
    "def download_id_list_as_csv(category):\n",
    "    \n",
    "    print(f'Downloading list of ids for {category}')\n",
    "    id_list_name = make_category_id_url_suffix(category)\n",
    "    ID_LISTS_RAW_URL = 'http://files.tmdb.org/p/exports/{0}.gz'.format(id_list_name)\n",
    "    with gzip.open(BytesIO(requests.get(ID_LISTS_RAW_URL).content), 'r') as f_open:\n",
    "        id_list = f_open.readlines()\n",
    "    # original 'json' is malformed, is actually one dict per line\n",
    "    ids = pd.DataFrame([json.loads(x) for x in id_list])\n",
    "    # some entries in the movie id list appear to be collections rather than movies\n",
    "    if 'original_title' in ids.columns:\n",
    "        ids.original_title = ids.original_title.apply(str)\n",
    "        ids = ids[~ids.original_title.str.endswith(' Collection')].copy()\n",
    "    # You have to drop adult films if you want to post any new data to Kaggle.\n",
    "    if 'adult' in ids.columns:\n",
    "        ids = ids[~ids['adult']].copy()\n",
    "    ids.to_csv(category + '_ids.csv', index=False)"
   ]
  },
  {
   "cell_type": "code",
   "execution_count": 21,
   "metadata": {},
   "outputs": [
    {
     "name": "stdout",
     "output_type": "stream",
     "text": [
      "Downloading list of ids for movie\n"
     ]
    },
    {
     "name": "stderr",
     "output_type": "stream",
     "text": [
      "/Users/zhangxinyu/.pyenv/versions/3.7.6/lib/python3.7/site-packages/ipykernel_launcher.py:8: FutureWarning: The pandas.datetime class is deprecated and will be removed from pandas in a future version. Import from datetime module instead.\n",
      "  \n",
      "/Users/zhangxinyu/.pyenv/versions/3.7.6/lib/python3.7/site-packages/ipykernel_launcher.py:9: FutureWarning: The pandas.datetime class is deprecated and will be removed from pandas in a future version. Import from datetime module instead.\n",
      "  if __name__ == '__main__':\n",
      "/Users/zhangxinyu/.pyenv/versions/3.7.6/lib/python3.7/site-packages/ipykernel_launcher.py:10: FutureWarning: The pandas.datetime class is deprecated and will be removed from pandas in a future version. Import from datetime module instead.\n",
      "  # Remove the CWD from sys.path while we load stuff.\n"
     ]
    }
   ],
   "source": [
    "download_id_list_as_csv('movie')"
   ]
  },
  {
   "cell_type": "code",
   "execution_count": 22,
   "metadata": {},
   "outputs": [],
   "source": [
    "import requests\n",
    "import pandas as pd\n",
    "import re\n",
    "import json\n",
    "import csv\n",
    "#Read all tmdbID\n",
    "df = pd.read_csv('movie_ids.csv')\n",
    "\n",
    "with open(\"movie.csv\",mode=\"w\") as fi:\n",
    "    writer = csv.writer(fi, delimiter=',')\n",
    "    writer.writerow(['index','movie_id', 'movie_name', 'genres','overview','original_language','cast','crew'])\n",
    "    num = 0\n",
    "    #Write Data to csv\n",
    "    for value in df['id']:\n",
    "        #for i,value in enumerate(df['id'])\n",
    "        if num >200:\n",
    "            break\n",
    "        url = 'https://api.themoviedb.org/3/movie/'+str(value)+'?api_key=6dfbbbfc10aa0e69930a9f512c59b66d&language=zh-TW&append_to_response=credits,keywords'\n",
    "        r = requests.get(url)\n",
    "        response = r.text\n",
    "        data = json.loads(response)\n",
    "        #Select zh-TW Movie Data\n",
    "        if not '\\u4e00' <= data['title'] <= '\\u9fa5':\n",
    "            continue\n",
    "        else:\n",
    "            num = num +1\n",
    "            writer.writerow([num,data['id'], data['title'], data['genres'],re.sub('\\s+','',data['overview']),data['original_language'],data['credits']['cast'],data['credits']['crew']])\n"
   ]
  },
  {
   "cell_type": "code",
   "execution_count": 23,
   "metadata": {},
   "outputs": [
    {
     "data": {
      "text/html": [
       "<div>\n",
       "<style scoped>\n",
       "    .dataframe tbody tr th:only-of-type {\n",
       "        vertical-align: middle;\n",
       "    }\n",
       "\n",
       "    .dataframe tbody tr th {\n",
       "        vertical-align: top;\n",
       "    }\n",
       "\n",
       "    .dataframe thead th {\n",
       "        text-align: right;\n",
       "    }\n",
       "</style>\n",
       "<table border=\"1\" class=\"dataframe\">\n",
       "  <thead>\n",
       "    <tr style=\"text-align: right;\">\n",
       "      <th></th>\n",
       "      <th>index</th>\n",
       "      <th>movie_id</th>\n",
       "      <th>movie_name</th>\n",
       "      <th>genres</th>\n",
       "      <th>overview</th>\n",
       "      <th>original_language</th>\n",
       "      <th>cast</th>\n",
       "      <th>crew</th>\n",
       "    </tr>\n",
       "  </thead>\n",
       "  <tbody>\n",
       "    <tr>\n",
       "      <th>0</th>\n",
       "      <td>1</td>\n",
       "      <td>3</td>\n",
       "      <td>天堂孤影</td>\n",
       "      <td>[{'id': 18, 'name': '剧情'}, {'id': 35, 'name': ...</td>\n",
       "      <td>環衛公司垃圾車駕駛員尼卡德（MattiPellonp鳵飾）的老同事計劃籌資組建自己的環衛公司...</td>\n",
       "      <td>fi</td>\n",
       "      <td>[{'adult': False, 'gender': 2, 'id': 4826, 'kn...</td>\n",
       "      <td>[{'adult': False, 'gender': 2, 'id': 16767, 'k...</td>\n",
       "    </tr>\n",
       "    <tr>\n",
       "      <th>1</th>\n",
       "      <td>2</td>\n",
       "      <td>11</td>\n",
       "      <td>星際大戰四部曲：曙光乍現</td>\n",
       "      <td>[{'id': 12, 'name': '冒险'}, {'id': 28, 'name': ...</td>\n",
       "      <td>遙遠星係發生叛亂，銀河共和國被推翻，奧爾德蘭星的莉亞公主（卡里•費甚爾CarrieFishe...</td>\n",
       "      <td>en</td>\n",
       "      <td>[{'adult': False, 'gender': 2, 'id': 2, 'known...</td>\n",
       "      <td>[{'adult': False, 'gender': 2, 'id': 1, 'known...</td>\n",
       "    </tr>\n",
       "    <tr>\n",
       "      <th>2</th>\n",
       "      <td>3</td>\n",
       "      <td>12</td>\n",
       "      <td>海底總動員</td>\n",
       "      <td>[{'id': 16, 'name': '动画'}, {'id': 10751, 'name...</td>\n",
       "      <td>小丑魚馬林（Marlin）與配偶珊瑚（Coral）於大堡礁建立了家園，但一場梭子魚的攻擊使馬...</td>\n",
       "      <td>en</td>\n",
       "      <td>[{'adult': False, 'gender': 2, 'id': 13, 'know...</td>\n",
       "      <td>[{'adult': False, 'gender': 2, 'id': 7, 'known...</td>\n",
       "    </tr>\n",
       "    <tr>\n",
       "      <th>3</th>\n",
       "      <td>4</td>\n",
       "      <td>13</td>\n",
       "      <td>阿甘正傳</td>\n",
       "      <td>[{'id': 35, 'name': '喜剧'}, {'id': 18, 'name': ...</td>\n",
       "      <td>二次大戰剛結束，阿甘出生在美國阿拉巴馬州的一個閉塞小鎮，他先天弱智，但上帝又賜予他一雙疾步如...</td>\n",
       "      <td>en</td>\n",
       "      <td>[{'adult': False, 'gender': 2, 'id': 31, 'know...</td>\n",
       "      <td>[{'adult': False, 'gender': 2, 'id': 37, 'know...</td>\n",
       "    </tr>\n",
       "    <tr>\n",
       "      <th>4</th>\n",
       "      <td>5</td>\n",
       "      <td>14</td>\n",
       "      <td>美國心玫瑰情</td>\n",
       "      <td>[{'id': 18, 'name': '剧情'}]</td>\n",
       "      <td>故事的主人翁賴斯特罕住在一個典型的美國小鎮裡，他面臨中年危機，突然對自己的生活感到不滿：和太...</td>\n",
       "      <td>en</td>\n",
       "      <td>[{'adult': False, 'gender': 2, 'id': 1979, 'kn...</td>\n",
       "      <td>[{'adult': False, 'gender': 2, 'id': 153, 'kno...</td>\n",
       "    </tr>\n",
       "  </tbody>\n",
       "</table>\n",
       "</div>"
      ],
      "text/plain": [
       "   index  movie_id    movie_name  \\\n",
       "0      1         3          天堂孤影   \n",
       "1      2        11  星際大戰四部曲：曙光乍現   \n",
       "2      3        12         海底總動員   \n",
       "3      4        13          阿甘正傳   \n",
       "4      5        14        美國心玫瑰情   \n",
       "\n",
       "                                              genres  \\\n",
       "0  [{'id': 18, 'name': '剧情'}, {'id': 35, 'name': ...   \n",
       "1  [{'id': 12, 'name': '冒险'}, {'id': 28, 'name': ...   \n",
       "2  [{'id': 16, 'name': '动画'}, {'id': 10751, 'name...   \n",
       "3  [{'id': 35, 'name': '喜剧'}, {'id': 18, 'name': ...   \n",
       "4                         [{'id': 18, 'name': '剧情'}]   \n",
       "\n",
       "                                            overview original_language  \\\n",
       "0  環衛公司垃圾車駕駛員尼卡德（MattiPellonp鳵飾）的老同事計劃籌資組建自己的環衛公司...                fi   \n",
       "1  遙遠星係發生叛亂，銀河共和國被推翻，奧爾德蘭星的莉亞公主（卡里•費甚爾CarrieFishe...                en   \n",
       "2  小丑魚馬林（Marlin）與配偶珊瑚（Coral）於大堡礁建立了家園，但一場梭子魚的攻擊使馬...                en   \n",
       "3  二次大戰剛結束，阿甘出生在美國阿拉巴馬州的一個閉塞小鎮，他先天弱智，但上帝又賜予他一雙疾步如...                en   \n",
       "4  故事的主人翁賴斯特罕住在一個典型的美國小鎮裡，他面臨中年危機，突然對自己的生活感到不滿：和太...                en   \n",
       "\n",
       "                                                cast  \\\n",
       "0  [{'adult': False, 'gender': 2, 'id': 4826, 'kn...   \n",
       "1  [{'adult': False, 'gender': 2, 'id': 2, 'known...   \n",
       "2  [{'adult': False, 'gender': 2, 'id': 13, 'know...   \n",
       "3  [{'adult': False, 'gender': 2, 'id': 31, 'know...   \n",
       "4  [{'adult': False, 'gender': 2, 'id': 1979, 'kn...   \n",
       "\n",
       "                                                crew  \n",
       "0  [{'adult': False, 'gender': 2, 'id': 16767, 'k...  \n",
       "1  [{'adult': False, 'gender': 2, 'id': 1, 'known...  \n",
       "2  [{'adult': False, 'gender': 2, 'id': 7, 'known...  \n",
       "3  [{'adult': False, 'gender': 2, 'id': 37, 'know...  \n",
       "4  [{'adult': False, 'gender': 2, 'id': 153, 'kno...  "
      ]
     },
     "execution_count": 23,
     "metadata": {},
     "output_type": "execute_result"
    }
   ],
   "source": [
    "import requests\n",
    "import pandas as pd\n",
    "import re\n",
    "import json\n",
    "import csv\n",
    "df1 = pd.read_csv(u'movie.csv')\n",
    "df1.head()"
   ]
  },
  {
   "cell_type": "code",
   "execution_count": 24,
   "metadata": {},
   "outputs": [
    {
     "data": {
      "text/plain": [
       "0    [{'id': 18, 'name': '剧情'}, {'id': 35, 'name': ...\n",
       "1    [{'id': 12, 'name': '冒险'}, {'id': 28, 'name': ...\n",
       "2    [{'id': 16, 'name': '动画'}, {'id': 10751, 'name...\n",
       "3    [{'id': 35, 'name': '喜剧'}, {'id': 18, 'name': ...\n",
       "4                           [{'id': 18, 'name': '剧情'}]\n",
       "Name: genres, dtype: object"
      ]
     },
     "execution_count": 24,
     "metadata": {},
     "output_type": "execute_result"
    }
   ],
   "source": [
    "# Extract list of genres\n",
    "from ast import literal_eval\n",
    "\n",
    "df1['genres'] = df1['genres'].apply(literal_eval)\n",
    "df1['genres'].head()"
   ]
  },
  {
   "cell_type": "code",
   "execution_count": 25,
   "metadata": {},
   "outputs": [
    {
     "data": {
      "text/plain": [
       "0        [劇情, 喜劇]\n",
       "1    [冒險, 動作, 科幻]\n",
       "2        [動畫, 家庭]\n",
       "3    [喜劇, 劇情, 愛情]\n",
       "4            [劇情]\n",
       "Name: genres, dtype: object"
      ]
     },
     "execution_count": 25,
     "metadata": {},
     "output_type": "execute_result"
    }
   ],
   "source": [
    "from opencc import OpenCC\n",
    "\n",
    "def list_genres(x):\n",
    "    cc = OpenCC('s2tw')\n",
    "    l = [cc.convert(d['name']) for d in x]\n",
    "    return(l)\n",
    "df1['genres'] = df1['genres'].apply(list_genres)\n",
    "\n",
    "df1['genres'].head()\n"
   ]
  },
  {
   "cell_type": "code",
   "execution_count": 26,
   "metadata": {},
   "outputs": [],
   "source": [
    "# Extract top 3 cast members\n",
    "#from translate import Translator\n",
    "df1['cast'] = df1['cast'].apply(literal_eval)\n",
    "#translator= Translator(to_lang=\"chinese\")\n",
    "\n",
    "def list_cast(x):\n",
    "    l = [d['name'] for d in x]\n",
    "    if len(l) > 3:\n",
    "        l = l[:1]\n",
    "    return(l)\n",
    "df1['cast'] = df1['cast'].apply(list_cast)\n",
    "#df1['cast'].head()"
   ]
  },
  {
   "cell_type": "code",
   "execution_count": 27,
   "metadata": {},
   "outputs": [],
   "source": [
    "# Extract director\n",
    "import numpy as np\n",
    "df1['crew'] = df1['crew'].apply(literal_eval)\n",
    "\n",
    "def get_director(x):\n",
    "    for i in x:\n",
    "        if i['job'] == 'Director':\n",
    "            return i['name']\n",
    "    return np.nan\n",
    "df1['director'] = df1['crew'].apply(get_director)\n",
    "\n",
    "\n",
    "# Drop the now unnecessary crew feature\n",
    "df1 = df1.drop('crew', axis = 1)\n"
   ]
  },
  {
   "cell_type": "code",
   "execution_count": 28,
   "metadata": {},
   "outputs": [],
   "source": [
    "missing = df1.columns[df1.isnull().any()]\n",
    "df1[missing].isnull().sum().to_frame()\n",
    "\n",
    "# Replace NaN from overview with an empty string\n",
    "df1['overview'] = df1['overview'].fillna('')"
   ]
  },
  {
   "cell_type": "code",
   "execution_count": 29,
   "metadata": {},
   "outputs": [
    {
     "name": "stderr",
     "output_type": "stream",
     "text": [
      "Building prefix dict from /Users/zhangxinyu/nlp-pro/dict.txt ...\n",
      "Dumping model to file cache /var/folders/g9/__yhhv7d0xx59_jssnmpjhwh0000gn/T/jieba.ufb30e0fe4a3317c83cabe51d90c31569.cache\n",
      "Loading model cost 0.751 seconds.\n",
      "Prefix dict has been built successfully.\n"
     ]
    }
   ],
   "source": [
    "import jieba\n",
    "import jieba.analyse\n",
    "#split overview\n",
    "#print(df1['overview'])\n",
    "jieba.set_dictionary('./dict.txt')\n",
    "overviews = []\n",
    "for d in df1['overview'].astype(str):\n",
    "    keywords = jieba.analyse.extract_tags(d, topK=6)\n",
    "    overviews.append(keywords)\n",
    "\n",
    "df1['keyword'] = overviews"
   ]
  },
  {
   "cell_type": "code",
   "execution_count": 30,
   "metadata": {},
   "outputs": [],
   "source": [
    "import re\n",
    "\n",
    "df1['feature'] = ''\n",
    "def bag_words(x):\n",
    "    return (''.join(re.sub('[^\\u4e00-\\u9fa5]+', '', x['movie_name'])) + ' ' + ' '.join(x['genres']) + ' ' +  ' '.join(x['keyword'])+ ' ' +  ' '.join(x['cast'])+ ' ' +  ''.join(x['director']))\n",
    "df1['feature'] = df1.apply(bag_words, axis = 1)\n",
    "\n",
    "#df1['feature'].head()\n",
    "\n",
    "feature = df1[['movie_id','movie_name','genres','cast','director','feature']]\n",
    "feature.to_csv('feature.csv',index=False)\n"
   ]
  },
  {
   "cell_type": "code",
   "execution_count": 31,
   "metadata": {},
   "outputs": [
    {
     "name": "stdout",
     "output_type": "stream",
     "text": [
      "[[1.         0.         0.         ... 0.08006408 0.07692308 0.        ]\n",
      " [0.         1.         0.         ... 0.         0.         0.        ]\n",
      " [0.         0.         1.         ... 0.         0.         0.        ]\n",
      " ...\n",
      " [0.08006408 0.         0.         ... 1.         0.08006408 0.        ]\n",
      " [0.07692308 0.         0.         ... 0.08006408 1.         0.        ]\n",
      " [0.         0.         0.         ... 0.         0.         1.        ]]\n"
     ]
    }
   ],
   "source": [
    "import pandas as pd\n",
    "from sklearn.metrics.pairwise import cosine_similarity\n",
    "from sklearn.feature_extraction.text import CountVectorizer\n",
    "# 將文件中的詞語轉換為詞頻矩陣\n",
    "cv = CountVectorizer()\n",
    "# 計算個詞語出現的次數\n",
    "cv_mx = cv.fit_transform(df1['feature'])\n",
    "\n",
    "# create cosine similarity matrix\n",
    "cosine_sim = cosine_similarity(cv_mx, cv_mx)\n",
    "print(cosine_sim)"
   ]
  },
  {
   "cell_type": "code",
   "execution_count": 32,
   "metadata": {},
   "outputs": [],
   "source": [
    "# create list of indices for later matching\n",
    "indices = pd.Series(df1.index, index = df1['movie_name'])"
   ]
  },
  {
   "cell_type": "code",
   "execution_count": 33,
   "metadata": {},
   "outputs": [],
   "source": [
    "def recommend_movie(title, n = 10, cosine_sim = cosine_sim):\n",
    "    movies = []\n",
    "    \n",
    "    # 檢索匹配的 movie_name index\n",
    "    if title not in indices.index:\n",
    "        print(\"Movie not in database.\")\n",
    "        return\n",
    "    else:\n",
    "        idx = indices[title]\n",
    "    \n",
    "    # 電影的餘弦相似度分數降序排列\n",
    "    scores = pd.Series(cosine_sim[idx]).sort_values(ascending = False)\n",
    "    \n",
    "    # 前 n 個最相似的 movies indexes\n",
    "    # 使用 1:n 因為 0 是輸入的同一部電影\n",
    "    top_n_idx = list(scores.iloc[1:n].index)\n",
    "        \n",
    "    #return result\n",
    "    print(df1['movie_name'].iloc[top_n_idx])\n",
    "    #ans = df1['movie_name'].iloc[top_n_idx]\n",
    "    #ans.to_csv('result.csv',index = False)"
   ]
  },
  {
   "cell_type": "code",
   "execution_count": 34,
   "metadata": {},
   "outputs": [
    {
     "name": "stdout",
     "output_type": "stream",
     "text": [
      "95      星艦奇航記5：終極先鋒\n",
      "83     星艦奇航記2：星戰大怒吼\n",
      "92      星艦奇航記4：搶救未來\n",
      "96      星艦奇航記6：邁入未來\n",
      "85      星艦奇航記3：石破天驚\n",
      "108     星艦奇航記7：日換星移\n",
      "114     星艦奇航記9：星際叛變\n",
      "Name: movie_name, dtype: object\n"
     ]
    }
   ],
   "source": [
    "recommend_movie('星艦奇航記',8)"
   ]
  }
 ],
 "metadata": {
  "interpreter": {
   "hash": "7fc41b1a7acd303dd356c32eae0bc8ee4149514fe8a099b2279ea3ac2a654e9b"
  },
  "kernelspec": {
   "display_name": "Python 3.7.6 64-bit ('3.7.6': pyenv)",
   "name": "python3"
  },
  "language_info": {
   "codemirror_mode": {
    "name": "ipython",
    "version": 3
   },
   "file_extension": ".py",
   "mimetype": "text/x-python",
   "name": "python",
   "nbconvert_exporter": "python",
   "pygments_lexer": "ipython3",
   "version": "3.7.6"
  },
  "orig_nbformat": 4
 },
 "nbformat": 4,
 "nbformat_minor": 2
}
